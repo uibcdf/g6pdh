{
 "cells": [
  {
   "cell_type": "code",
   "execution_count": 1,
   "metadata": {},
   "outputs": [],
   "source": [
    "# Blabla"
   ]
  },
  {
   "cell_type": "code",
   "execution_count": 2,
   "metadata": {},
   "outputs": [],
   "source": [
    "import numpy as np\n",
    "import matplotlib.pyplot as plt\n",
    "import nglview\n",
    "import mdtraj\n",
    "\n",
    "plt.style.use(u'ggplot')"
   ]
  },
  {
   "cell_type": "markdown",
   "metadata": {},
   "source": [
    "# Monomer with both structural and functional NADP in PDB 2BH9"
   ]
  },
  {
   "cell_type": "markdown",
   "metadata": {},
   "source": [
    "- Note that there are no crystal water\n",
    "- The protein has to be protonated with pH=8.75"
   ]
  },
  {
   "cell_type": "code",
   "execution_count": 28,
   "metadata": {},
   "outputs": [],
   "source": [
    "g6pdh_mono=mdtraj.load('../pdbs/2bh9.pdb')\n"
   ]
  },
  {
   "cell_type": "code",
   "execution_count": 29,
   "metadata": {},
   "outputs": [
    {
     "name": "stdout",
     "output_type": "stream",
     "text": [
      "0 489 3971\n",
      "1 166 270\n"
     ]
    }
   ],
   "source": [
    "for chain in g6pdh_mono.topology.chains:\n",
    "    print(chain.index,chain.n_residues, chain.n_atoms)"
   ]
  },
  {
   "cell_type": "code",
   "execution_count": 32,
   "metadata": {},
   "outputs": [
    {
     "data": {
      "application/vnd.jupyter.widget-view+json": {
       "model_id": "f4dd0f4d65db4bbf881d369f2220411e",
       "version_major": 2,
       "version_minor": 0
      },
      "text/plain": [
       "NGLWidget()"
      ]
     },
     "metadata": {},
     "output_type": "display_data"
    }
   ],
   "source": [
    "view = nglview.show_mdtraj(g6pdh_mono)\n",
    "view"
   ]
  },
  {
   "cell_type": "markdown",
   "metadata": {},
   "source": [
    "# Dimer with both structural and functional NADP in PDB 2BHL"
   ]
  },
  {
   "cell_type": "markdown",
   "metadata": {},
   "source": [
    "- Note that there are many crystal waters \n",
    "- The protein has to be protonated with pH=8.75"
   ]
  },
  {
   "cell_type": "code",
   "execution_count": 3,
   "metadata": {},
   "outputs": [],
   "source": [
    "pdbs_dir='../pdbs/'\n",
    "pdb_code='2BHL'\n",
    "pdb_file=pdbs_dir+pdb_code+'.pdb'"
   ]
  },
  {
   "cell_type": "code",
   "execution_count": 4,
   "metadata": {},
   "outputs": [],
   "source": [
    "g6pdh_mdtraj=mdtraj.load(pdb_file)"
   ]
  },
  {
   "cell_type": "code",
   "execution_count": 5,
   "metadata": {},
   "outputs": [
    {
     "name": "stdout",
     "output_type": "stream",
     "text": [
      "0 479 3875\n",
      "1 479 3879\n",
      "2 5 40\n",
      "3 3 28\n",
      "4 43 43\n",
      "5 38 38\n"
     ]
    }
   ],
   "source": [
    "for chain in g6pdh_mdtraj.topology.chains:\n",
    "    print(chain.index,chain.n_residues, chain.n_atoms)"
   ]
  },
  {
   "cell_type": "code",
   "execution_count": 24,
   "metadata": {},
   "outputs": [
    {
     "data": {
      "application/vnd.jupyter.widget-view+json": {
       "model_id": "28eff34a6089412eb06b767e50c23805",
       "version_major": 2,
       "version_minor": 0
      },
      "text/plain": [
       "NGLWidget()"
      ]
     },
     "metadata": {},
     "output_type": "display_data"
    }
   ],
   "source": [
    "view = nglview.show_mdtraj(g6pdh_mdtraj)\n",
    "view.clear()\n",
    "view.add_cartoon(selection=\":A\", color='purple')\n",
    "view.add_cartoon(selection=\":B\", color='blue')\n",
    "#view.add_surface(selection=\":A\", opacity=0.1)\n",
    "#view.add_surface(selection=\":B\", opacity=0.1)\n",
    "view.add_spacefill(selection=\":C\")\n",
    "view.add_spacefill(selection=\":D\")\n",
    "view.add_spacefill(selection=\":E\")\n",
    "view.add_spacefill(selection=\":F\")\n",
    "view"
   ]
  },
  {
   "cell_type": "code",
   "execution_count": null,
   "metadata": {},
   "outputs": [],
   "source": []
  }
 ],
 "metadata": {
  "anaconda-cloud": {},
  "kernelspec": {
   "display_name": "Python [conda env:UIBCDFLab]",
   "language": "python",
   "name": "conda-env-UIBCDFLab-py"
  },
  "language_info": {
   "codemirror_mode": {
    "name": "ipython",
    "version": 3
   },
   "file_extension": ".py",
   "mimetype": "text/x-python",
   "name": "python",
   "nbconvert_exporter": "python",
   "pygments_lexer": "ipython3",
   "version": "3.6.5"
  }
 },
 "nbformat": 4,
 "nbformat_minor": 2
}
